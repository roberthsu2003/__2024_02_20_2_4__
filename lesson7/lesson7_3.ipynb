{
 "cells": [
  {
   "cell_type": "code",
   "execution_count": 1,
   "metadata": {},
   "outputs": [],
   "source": [
    "def menu(wine:str,entree:str,dessert:str):\n",
    "    print(f\"餐前酒:{wine}\")\n",
    "    print(f\"主菜:{entree}\")\n",
    "    print(f\"甜點:{dessert}\")\n"
   ]
  },
  {
   "cell_type": "code",
   "execution_count": 2,
   "metadata": {},
   "outputs": [
    {
     "name": "stdout",
     "output_type": "stream",
     "text": [
      "餐前酒:白酒\n",
      "主菜:牛排\n",
      "甜點:蛋糕\n"
     ]
    }
   ],
   "source": [
    "#引數值呼叫\n",
    "menu('白酒','牛排','蛋糕')"
   ]
  },
  {
   "cell_type": "code",
   "execution_count": 3,
   "metadata": {},
   "outputs": [
    {
     "name": "stdout",
     "output_type": "stream",
     "text": [
      "餐前酒:白酒\n",
      "主菜:牛排\n",
      "甜點:蛋糕\n"
     ]
    }
   ],
   "source": [
    "#引數名稱呼叫\n",
    "menu(wine='白酒',entree='牛排',dessert='蛋糕')"
   ]
  },
  {
   "cell_type": "code",
   "execution_count": 4,
   "metadata": {},
   "outputs": [
    {
     "name": "stdout",
     "output_type": "stream",
     "text": [
      "餐前酒:白酒\n",
      "主菜:牛排\n",
      "甜點:蛋糕\n"
     ]
    }
   ],
   "source": [
    "#引數名稱呼叫,可以不依照順序\n",
    "menu(dessert='蛋糕',wine='白酒',entree='牛排')"
   ]
  }
 ],
 "metadata": {
  "kernelspec": {
   "display_name": "Python 3",
   "language": "python",
   "name": "python3"
  },
  "language_info": {
   "codemirror_mode": {
    "name": "ipython",
    "version": 3
   },
   "file_extension": ".py",
   "mimetype": "text/x-python",
   "name": "python",
   "nbconvert_exporter": "python",
   "pygments_lexer": "ipython3",
   "version": "3.10.13"
  }
 },
 "nbformat": 4,
 "nbformat_minor": 2
}
