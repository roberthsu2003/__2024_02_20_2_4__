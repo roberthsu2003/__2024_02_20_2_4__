{
 "cells": [
  {
   "cell_type": "code",
   "execution_count": 2,
   "metadata": {},
   "outputs": [
    {
     "data": {
      "text/plain": [
       "'abc'"
      ]
     },
     "execution_count": 2,
     "metadata": {},
     "output_type": "execute_result"
    }
   ],
   "source": [
    "import pyinputplus as pyip\n",
    "result = pyip.inputStr()\n",
    "result"
   ]
  },
  {
   "cell_type": "code",
   "execution_count": 3,
   "metadata": {},
   "outputs": [
    {
     "name": "stdout",
     "output_type": "stream",
     "text": [
      "Help on function inputStr in module pyinputplus:\n",
      "\n",
      "inputStr(prompt='', default=None, blank=False, timeout=None, limit=None, strip=None, allowRegexes=None, blockRegexes=None, applyFunc=None, postValidateApplyFunc=None)\n",
      "    Prompts the user to enter any string input. This is similar to Python's ``input()``\n",
      "    and ``raw_input()`` functions, but with PyInputPlus's additional features\n",
      "    such as timeouts, retry limits, stripping, allowlist/blocklist, etc.\n",
      "    \n",
      "    Validation can be performed by the validationFunc argument, which raises\n",
      "    an exception if the input is invalid. The exception message is used to\n",
      "    tell the user why the input is invalid.\n",
      "    \n",
      "    Run ``help(pyinputplus.parameters)`` for an explanation of the common parameters.\n",
      "    \n",
      "    >>> result = inputStr('Enter name> ')\n",
      "    Enter name> Al\n",
      "    >>> result\n",
      "    'Al'\n",
      "\n"
     ]
    }
   ],
   "source": [
    "help(pyip.inputStr)"
   ]
  },
  {
   "cell_type": "code",
   "execution_count": 4,
   "metadata": {},
   "outputs": [
    {
     "name": "stdout",
     "output_type": "stream",
     "text": [
      "請輸入姓名:"
     ]
    },
    {
     "data": {
      "text/plain": [
       "'徐國堂'"
      ]
     },
     "execution_count": 4,
     "metadata": {},
     "output_type": "execute_result"
    }
   ],
   "source": [
    "import pyinputplus as pyip\n",
    "name = pyip.inputStr(prompt='請輸入姓名:') #引數名稱的呼叫\n",
    "name"
   ]
  },
  {
   "cell_type": "code",
   "execution_count": 5,
   "metadata": {},
   "outputs": [
    {
     "name": "stdout",
     "output_type": "stream",
     "text": [
      "請輸入姓名:"
     ]
    },
    {
     "data": {
      "text/plain": [
       "'徐國堂'"
      ]
     },
     "execution_count": 5,
     "metadata": {},
     "output_type": "execute_result"
    }
   ],
   "source": [
    "name = pyip.inputStr('請輸入姓名:') #引數值的呼叫,依照參數的順序\n",
    "name"
   ]
  },
  {
   "cell_type": "code",
   "execution_count": 10,
   "metadata": {},
   "outputs": [
    {
     "name": "stdout",
     "output_type": "stream",
     "text": [
      "請輸入姓名:"
     ]
    },
    {
     "data": {
      "text/plain": [
       "'徐國堂'"
      ]
     },
     "execution_count": 10,
     "metadata": {},
     "output_type": "execute_result"
    }
   ],
   "source": [
    "name = pyip.inputStr('請輸入姓名:') #混合呼叫,前面引數值的呼叫,依照參數的順序,後面可以使用引數名稱的呼叫\n",
    "name"
   ]
  },
  {
   "cell_type": "code",
   "execution_count": 12,
   "metadata": {},
   "outputs": [
    {
     "name": "stdout",
     "output_type": "stream",
     "text": [
      "請輸入數值:'10a' is not an integer.\n",
      "請輸入數值:'10b' is not an integer.\n",
      "請輸入數值:'10c' is not an integer.\n",
      "請輸入數值:10\n"
     ]
    }
   ],
   "source": [
    "input_value = pyip.inputInt('請輸入數值:')\n",
    "print(input_value)"
   ]
  }
 ],
 "metadata": {
  "kernelspec": {
   "display_name": "Python 3",
   "language": "python",
   "name": "python3"
  },
  "language_info": {
   "codemirror_mode": {
    "name": "ipython",
    "version": 3
   },
   "file_extension": ".py",
   "mimetype": "text/x-python",
   "name": "python",
   "nbconvert_exporter": "python",
   "pygments_lexer": "ipython3",
   "version": "3.10.13"
  }
 },
 "nbformat": 4,
 "nbformat_minor": 2
}
