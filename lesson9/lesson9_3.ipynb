{
 "cells": [
  {
   "cell_type": "code",
   "execution_count": 7,
   "metadata": {},
   "outputs": [
    {
     "data": {
      "text/plain": [
       "{'name': '徐國堂', 'chinese': 98, 'english': 76, 'math': 98}"
      ]
     },
     "execution_count": 7,
     "metadata": {},
     "output_type": "execute_result"
    }
   ],
   "source": [
    "stu1:dict = {'name':\"徐國堂\",'chinese':98,'english':76,'math':98}\n",
    "stu1"
   ]
  },
  {
   "cell_type": "code",
   "execution_count": 3,
   "metadata": {},
   "outputs": [
    {
     "data": {
      "text/plain": [
       "{'name': '徐國堂', 'chinese': 98, 'english': 76, 'math': 98}"
      ]
     },
     "execution_count": 3,
     "metadata": {},
     "output_type": "execute_result"
    }
   ],
   "source": [
    "dict([('name','徐國堂'),('chinese',98),('english',76),('math',98)])"
   ]
  },
  {
   "cell_type": "code",
   "execution_count": 8,
   "metadata": {},
   "outputs": [
    {
     "data": {
      "text/plain": [
       "'徐國堂'"
      ]
     },
     "execution_count": 8,
     "metadata": {},
     "output_type": "execute_result"
    }
   ],
   "source": [
    "stu1['name']"
   ]
  },
  {
   "cell_type": "code",
   "execution_count": 15,
   "metadata": {},
   "outputs": [
    {
     "name": "stdout",
     "output_type": "stream",
     "text": [
      "徐國堂\n",
      "98\n",
      "76\n",
      "98\n",
      "272\n",
      "90.67\n"
     ]
    }
   ],
   "source": [
    "from pydantic import BaseModel\n",
    "\n",
    "class Student(BaseModel):\n",
    "    #Field\n",
    "    name:str\n",
    "    chinese:int\n",
    "    english:int\n",
    "    math:int\n",
    "\n",
    "    @property\n",
    "    def sum(self) -> int:\n",
    "        return self.chinese + self.english + self.math\n",
    "\n",
    "    def average(self) -> float:\n",
    "        return round(self.sum / 3,ndigits=2)\n",
    "\n",
    "student1 = Student.model_validate({'name':\"徐國堂\",'chinese':'98','english':'76','math':'98'})\n",
    "print(student1.name)\n",
    "print(student1.chinese)\n",
    "print(student1.english)\n",
    "print(student1.math)\n",
    "print(student1.sum)\n",
    "print(student1.average())\n",
    "\n"
   ]
  },
  {
   "cell_type": "code",
   "execution_count": 17,
   "metadata": {},
   "outputs": [
    {
     "name": "stdout",
     "output_type": "stream",
     "text": [
      "徐國堂\n",
      "98\n",
      "76\n",
      "98\n",
      "272\n",
      "90.67\n",
      "=============\n",
      "張xx\n",
      "97\n",
      "65\n",
      "75\n",
      "237\n",
      "79.0\n",
      "=============\n",
      "王xx\n",
      "65\n",
      "59\n",
      "100\n",
      "224\n",
      "74.67\n",
      "=============\n"
     ]
    }
   ],
   "source": [
    "from pydantic import BaseModel,RootModel\n",
    "\n",
    "source_data:list[dict]= [\n",
    "    {'name':\"徐國堂\",'chinese':'98','english':'76','math':'98'},\n",
    "    {'name':\"張xx\",'chinese':97 ,'english':65.0,'math':'75.0'},\n",
    "    {'name':\"王xx\",'chinese':'65','english':'59','math':'100'},\n",
    "]\n",
    "\n",
    "class Student(BaseModel):\n",
    "    #Field\n",
    "    name:str\n",
    "    chinese:int\n",
    "    english:int\n",
    "    math:int\n",
    "\n",
    "    @property\n",
    "    def sum(self) -> int:\n",
    "        return self.chinese + self.english + self.math\n",
    "\n",
    "    def average(self) -> float:\n",
    "        return round(self.sum / 3,ndigits=2)\n",
    "\n",
    "class AllStudent(RootModel):\n",
    "    root:list[Student]\n",
    "\n",
    "    def __iter__(self):\n",
    "        return iter(self.root)\n",
    "    \n",
    "    def __getitem__(self,item):\n",
    "        return self.root[item]\n",
    "    \n",
    "students:AllStudent = AllStudent.model_validate(source_data)\n",
    "\n",
    "for student in students:\n",
    "    print(student.name)\n",
    "    print(student.chinese)\n",
    "    print(student.english)\n",
    "    print(student.math)\n",
    "    print(student.sum)\n",
    "    print(student.average())\n",
    "    print(\"=============\")\n"
   ]
  }
 ],
 "metadata": {
  "kernelspec": {
   "display_name": "Python 3",
   "language": "python",
   "name": "python3"
  },
  "language_info": {
   "codemirror_mode": {
    "name": "ipython",
    "version": 3
   },
   "file_extension": ".py",
   "mimetype": "text/x-python",
   "name": "python",
   "nbconvert_exporter": "python",
   "pygments_lexer": "ipython3",
   "version": "3.10.13"
  }
 },
 "nbformat": 4,
 "nbformat_minor": 2
}
