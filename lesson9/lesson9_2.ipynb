{
 "cells": [
  {
   "cell_type": "code",
   "execution_count": 2,
   "metadata": {},
   "outputs": [],
   "source": [
    "class Person():\n",
    "    def __init__(self,n:str):\n",
    "        #建立實體屬性attribute\n",
    "        self.name = n\n",
    "    \n",
    "    #實體的method\n",
    "    def exclaim(self):\n",
    "        print(f\"我的名字是{self.name}\")\n",
    "\n",
    "class Student(Person):\n",
    "    def __init__(self,na:str):\n",
    "        super().__init__(n=na)"
   ]
  },
  {
   "cell_type": "code",
   "execution_count": 5,
   "metadata": {},
   "outputs": [
    {
     "name": "stdout",
     "output_type": "stream",
     "text": [
      "<class '__main__.Student'>\n",
      "我的名字是徐國堂\n"
     ]
    }
   ],
   "source": [
    "stu1 = Student(na=\"徐國堂\")\n",
    "print(type(stu1))\n",
    "stu1.exclaim()"
   ]
  },
  {
   "cell_type": "code",
   "execution_count": 6,
   "metadata": {},
   "outputs": [
    {
     "name": "stdout",
     "output_type": "stream",
     "text": [
      "<class '__main__.Student'>\n",
      "我的名字是張xx\n"
     ]
    }
   ],
   "source": [
    "stu2 = Student(na=\"張xx\")\n",
    "print(type(stu2))\n",
    "stu2.exclaim()"
   ]
  }
 ],
 "metadata": {
  "kernelspec": {
   "display_name": "Python 3",
   "language": "python",
   "name": "python3"
  },
  "language_info": {
   "codemirror_mode": {
    "name": "ipython",
    "version": 3
   },
   "file_extension": ".py",
   "mimetype": "text/x-python",
   "name": "python",
   "nbconvert_exporter": "python",
   "pygments_lexer": "ipython3",
   "version": "3.10.13"
  }
 },
 "nbformat": 4,
 "nbformat_minor": 2
}
