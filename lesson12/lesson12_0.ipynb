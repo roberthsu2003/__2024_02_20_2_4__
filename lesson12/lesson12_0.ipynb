{
 "cells": [
  {
   "cell_type": "code",
   "execution_count": 1,
   "metadata": {},
   "outputs": [
    {
     "name": "stdout",
     "output_type": "stream",
     "text": [
      "{'name': '李政成', 'height': '207', 'weight': '42'}\n",
      "{'name': '艾巧夫', 'height': '153', 'weight': '45'}\n",
      "{'name': '林昱芳', 'height': '184', 'weight': '66'}\n",
      "{'name': '洪阿惠', 'height': '162', 'weight': '58'}\n",
      "{'name': '陳淑萍', 'height': '160', 'weight': '79'}\n",
      "{'name': '黃旻林', 'height': '191', 'weight': '79'}\n",
      "{'name': '陳怡伶', 'height': '191', 'weight': '52'}\n",
      "{'name': '周怡啟', 'height': '216', 'weight': '40'}\n",
      "{'name': '臧怡君', 'height': '192', 'weight': '65'}\n",
      "{'name': '林柏洋', 'height': '214', 'weight': '56'}\n",
      "{'name': '吳淑惠', 'height': '173', 'weight': '49'}\n",
      "{'name': '魏秋萍', 'height': '207', 'weight': '62'}\n",
      "{'name': '葉志峰', 'height': '209', 'weight': '63'}\n",
      "{'name': '尚偉倫', 'height': '212', 'weight': '81'}\n",
      "{'name': '張莉雯', 'height': '213', 'weight': '56'}\n",
      "{'name': '童建霖', 'height': '166', 'weight': '43'}\n",
      "{'name': '馮耀中', 'height': '202', 'weight': '53'}\n",
      "{'name': '彭虹屏', 'height': '183', 'weight': '56'}\n",
      "{'name': '黃淑芬', 'height': '164', 'weight': '86'}\n",
      "{'name': '黃善迪', 'height': '169', 'weight': '87'}\n",
      "{'name': '邱亭君', 'height': '218', 'weight': '57'}\n",
      "{'name': '游治旺', 'height': '157', 'weight': '42'}\n",
      "{'name': '林瑞喬', 'height': '197', 'weight': '76'}\n",
      "{'name': '童建霖', 'height': '184', 'weight': '58'}\n",
      "{'name': '陳淑娟', 'height': '171', 'weight': '65'}\n",
      "{'name': '林冠蕙', 'height': '197', 'weight': '57'}\n",
      "{'name': '余月修', 'height': '214', 'weight': '68'}\n",
      "{'name': '陳怡容', 'height': '199', 'weight': '56'}\n",
      "{'name': '陳建豪', 'height': '201', 'weight': '80'}\n",
      "{'name': '潘英迪', 'height': '218', 'weight': '81'}\n",
      "{'name': '錢佩豪', 'height': '191', 'weight': '55'}\n",
      "{'name': '林俊翔', 'height': '207', 'weight': '58'}\n",
      "{'name': '程玫靖', 'height': '178', 'weight': '57'}\n",
      "{'name': '黃婷婷', 'height': '202', 'weight': '48'}\n",
      "{'name': '劉慧君', 'height': '196', 'weight': '64'}\n",
      "{'name': '張俊傑', 'height': '174', 'weight': '84'}\n",
      "{'name': '王人仰', 'height': '171', 'weight': '78'}\n",
      "{'name': '趙宛真', 'height': '217', 'weight': '76'}\n",
      "{'name': '游一鈺', 'height': '204', 'weight': '57'}\n",
      "{'name': '方筠紹', 'height': '207', 'weight': '87'}\n",
      "{'name': '戚亨', 'height': '207', 'weight': '66'}\n",
      "{'name': '鄧哲榮', 'height': '180', 'weight': '69'}\n",
      "{'name': '黃淑芬', 'height': '182', 'weight': '49'}\n",
      "{'name': '趙家豪', 'height': '175', 'weight': '40'}\n",
      "{'name': '李政成', 'height': '215', 'weight': '64'}\n",
      "{'name': '尚偉倫', 'height': '183', 'weight': '42'}\n",
      "{'name': '傅佳琳', 'height': '168', 'weight': '64'}\n",
      "{'name': '蔡至剛', 'height': '171', 'weight': '65'}\n",
      "{'name': '艾巧夫', 'height': '193', 'weight': '51'}\n",
      "{'name': '陳彥治', 'height': '151', 'weight': '64'}\n"
     ]
    }
   ],
   "source": [
    "from requests import Response\n",
    "import requests\n",
    "import csv\n",
    "from io import StringIO\n",
    "\n",
    "def main():\n",
    "    link = 'https://raw.githubusercontent.com/roberthsu2003/__2024_02_20_2_4__/main/lesson11/students.csv'\n",
    "    try :\n",
    "        down:Response=requests.get(link)\n",
    "        \n",
    "    except:\n",
    "        print(\"Error\")\n",
    "        return\n",
    "    else:\n",
    "      if down.status_code != 200:\n",
    "        print(\"status_code不正確\")\n",
    "        return\n",
    "        \n",
    "    file:str=down.text\n",
    "    b:StringIO=StringIO(file)\n",
    "    cs=csv.DictReader(b)\n",
    "    data:list[dict]=list(cs)\n",
    "    for i in data:\n",
    "        print(i)\n",
    "    \n",
    "main()\n"
   ]
  }
 ],
 "metadata": {
  "kernelspec": {
   "display_name": "Python 3",
   "language": "python",
   "name": "python3"
  },
  "language_info": {
   "codemirror_mode": {
    "name": "ipython",
    "version": 3
   },
   "file_extension": ".py",
   "mimetype": "text/x-python",
   "name": "python",
   "nbconvert_exporter": "python",
   "pygments_lexer": "ipython3",
   "version": "3.10.13"
  }
 },
 "nbformat": 4,
 "nbformat_minor": 2
}
