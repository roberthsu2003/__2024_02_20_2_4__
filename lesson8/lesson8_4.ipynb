{
 "cells": [
  {
   "cell_type": "code",
   "execution_count": null,
   "metadata": {},
   "outputs": [],
   "source": [
    "#list\n",
    "[80, 90, 100]"
   ]
  },
  {
   "cell_type": "code",
   "execution_count": 5,
   "metadata": {},
   "outputs": [
    {
     "data": {
      "text/plain": [
       "{'國文': 80, '英文': 90, '數學': 100}"
      ]
     },
     "execution_count": 5,
     "metadata": {},
     "output_type": "execute_result"
    }
   ],
   "source": [
    "#dict\n",
    "\n",
    "scores:dict[str,int] = {'國文':80,\n",
    "          '英文':90,\n",
    "          '數學':100}\n",
    "scores"
   ]
  },
  {
   "cell_type": "code",
   "execution_count": 4,
   "metadata": {},
   "outputs": [
    {
     "data": {
      "text/plain": [
       "(80, 90, 100)"
      ]
     },
     "execution_count": 4,
     "metadata": {},
     "output_type": "execute_result"
    }
   ],
   "source": [
    "#取出值,subscript\n",
    "scores['國文'], scores['英文'], scores['數學']"
   ]
  },
  {
   "cell_type": "code",
   "execution_count": 7,
   "metadata": {},
   "outputs": [
    {
     "name": "stdout",
     "output_type": "stream",
     "text": [
      "80\n",
      "90\n",
      "100\n"
     ]
    }
   ],
   "source": [
    "for key in scores:\n",
    "    print(scores[key])\n",
    "    "
   ]
  },
  {
   "cell_type": "code",
   "execution_count": 8,
   "metadata": {},
   "outputs": [
    {
     "data": {
      "text/plain": [
       "{'國文': 86, '英文': 52, '數學': 81}"
      ]
     },
     "execution_count": 8,
     "metadata": {},
     "output_type": "execute_result"
    }
   ],
   "source": [
    "#建立空的dictionary\n",
    "import random \n",
    "scores:dict[str:int] = {}\n",
    "for item in ['國文','英文','數學']:\n",
    "    scores[item] = random.randint(50,100)\n",
    "scores"
   ]
  },
  {
   "cell_type": "code",
   "execution_count": 9,
   "metadata": {},
   "outputs": [
    {
     "data": {
      "text/plain": [
       "{'國文': 86, '英文': 68, '數學': 83}"
      ]
     },
     "execution_count": 9,
     "metadata": {},
     "output_type": "execute_result"
    }
   ],
   "source": [
    "#dict的comprehension {for in}\n",
    "scores:dict[str:int] = {item:random.randint(50,100) for item in['國文','英文','數學']}\n",
    "scores"
   ]
  },
  {
   "cell_type": "code",
   "execution_count": 10,
   "metadata": {},
   "outputs": [
    {
     "data": {
      "text/plain": [
       "[{'name': '徐xx', 'height': 178, 'weight': 78},\n",
       " {'name': '王xx', 'height': 168, 'weight': 75},\n",
       " {'name': '張xx', 'height': 183, 'weight': 78}]"
      ]
     },
     "execution_count": 10,
     "metadata": {},
     "output_type": "execute_result"
    }
   ],
   "source": [
    "#2維資料\n",
    "names:list[dict] = [\n",
    "    {'name':'徐xx','height':178,'weight':78},\n",
    "    {'name':'王xx','height':168,'weight':75},\n",
    "    {'name':'張xx','height':183,'weight':78},\n",
    "]\n",
    "names"
   ]
  },
  {
   "cell_type": "code",
   "execution_count": 12,
   "metadata": {},
   "outputs": [
    {
     "name": "stdout",
     "output_type": "stream",
     "text": [
      "徐xx\n",
      "178\n",
      "78\n",
      "========\n",
      "王xx\n",
      "168\n",
      "75\n",
      "========\n",
      "張xx\n",
      "183\n",
      "78\n",
      "========\n"
     ]
    }
   ],
   "source": [
    "for people in names:\n",
    "    print(people['name'])\n",
    "    print(people['height'])\n",
    "    print(people['weight'])\n",
    "    print(\"========\")\n"
   ]
  }
 ],
 "metadata": {
  "kernelspec": {
   "display_name": "Python 3",
   "language": "python",
   "name": "python3"
  },
  "language_info": {
   "codemirror_mode": {
    "name": "ipython",
    "version": 3
   },
   "file_extension": ".py",
   "mimetype": "text/x-python",
   "name": "python",
   "nbconvert_exporter": "python",
   "pygments_lexer": "ipython3",
   "version": "3.10.13"
  }
 },
 "nbformat": 4,
 "nbformat_minor": 2
}
