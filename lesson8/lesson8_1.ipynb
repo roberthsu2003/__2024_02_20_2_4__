{
 "cells": [
  {
   "cell_type": "code",
   "execution_count": 3,
   "metadata": {},
   "outputs": [
    {
     "name": "stdout",
     "output_type": "stream",
     "text": [
      "(67, 89, 92)\n",
      "[67, 89, 92]\n"
     ]
    }
   ],
   "source": [
    "#tuple\n",
    "mytuple:tuple[int] = (67,89,92)\n",
    "print(mytuple)\n",
    "\n",
    "#list\n",
    "mylist:list[int] = [67, 89, 92]\n",
    "print(mylist)"
   ]
  },
  {
   "cell_type": "code",
   "execution_count": 8,
   "metadata": {},
   "outputs": [
    {
     "name": "stdout",
     "output_type": "stream",
     "text": [
      "67 89 92\n"
     ]
    },
    {
     "data": {
      "text/plain": [
       "(67, 89, 92)"
      ]
     },
     "execution_count": 8,
     "metadata": {},
     "output_type": "execute_result"
    }
   ],
   "source": [
    "#tuple常用的拆解法\n",
    "chinese, english, math= 67,89,92\n",
    "print(chinese, english, math)\n",
    "\n",
    "chinese, english, math\n"
   ]
  }
 ],
 "metadata": {
  "kernelspec": {
   "display_name": "Python 3",
   "language": "python",
   "name": "python3"
  },
  "language_info": {
   "codemirror_mode": {
    "name": "ipython",
    "version": 3
   },
   "file_extension": ".py",
   "mimetype": "text/x-python",
   "name": "python",
   "nbconvert_exporter": "python",
   "pygments_lexer": "ipython3",
   "version": "3.10.13"
  }
 },
 "nbformat": 4,
 "nbformat_minor": 2
}
