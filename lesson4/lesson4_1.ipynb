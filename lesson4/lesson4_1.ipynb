{
 "cells": [
  {
   "cell_type": "code",
   "execution_count": 3,
   "metadata": {},
   "outputs": [
    {
     "name": "stdout",
     "output_type": "stream",
     "text": [
      "斜邊:50,對邊:25\n",
      "三角形的角度是30.00\n"
     ]
    }
   ],
   "source": [
    "#求直角三角形的角度\n",
    "#高中數學\n",
    "import math\n",
    "side = eval(input(\"請輸入斜邊:\"))\n",
    "another = eval(input(\"請輸入對邊:\"))\n",
    "radian = math.asin(another/side)\n",
    "degree = math.degrees(radian)\n",
    "\n",
    "print(f'斜邊:{side},對邊:{another}')\n",
    "print(f'三角形的角度是{degree:.2f}')"
   ]
  },
  {
   "cell_type": "code",
   "execution_count": 5,
   "metadata": {},
   "outputs": [
    {
     "name": "stdout",
     "output_type": "stream",
     "text": [
      "7.0\n",
      "7.0\n",
      "5.94418483337567\n",
      "1.8257418583505538\n"
     ]
    }
   ],
   "source": [
    "#大學數學\n",
    "import statistics\n",
    "print((0+5+9+14)/4)\n",
    "print((5+6+8+9)/4)\n",
    "\n",
    "print(statistics.stdev([0, 5, 9, 14]))\n",
    "print(statistics.stdev([5, 6, 8, 9]))\n"
   ]
  }
 ],
 "metadata": {
  "kernelspec": {
   "display_name": "Python 3",
   "language": "python",
   "name": "python3"
  },
  "language_info": {
   "codemirror_mode": {
    "name": "ipython",
    "version": 3
   },
   "file_extension": ".py",
   "mimetype": "text/x-python",
   "name": "python",
   "nbconvert_exporter": "python",
   "pygments_lexer": "ipython3",
   "version": "3.10.13"
  }
 },
 "nbformat": 4,
 "nbformat_minor": 2
}
