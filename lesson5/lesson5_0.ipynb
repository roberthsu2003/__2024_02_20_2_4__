{
 "cells": [
  {
   "cell_type": "code",
   "execution_count": 1,
   "metadata": {},
   "outputs": [
    {
     "name": "stdout",
     "output_type": "stream",
     "text": [
      "你的bmi是25.181\n",
      "過重\n"
     ]
    }
   ],
   "source": [
    "try:\n",
    "    h=eval(input('身高:'))\n",
    "    w=eval(input('體重:'))\n",
    "    bmi=w/((h/100)**2)\n",
    "    print(f'你的bmi是{bmi:.3f}')\n",
    "    if bmi < 18.5:\n",
    "        print('過輕')\n",
    "    elif bmi >=18.5 and bmi < 24:\n",
    "        print(\"健康\")\n",
    "    elif bmi >=24 and bmi < 27:\n",
    "        print(\"過重\")\n",
    "    elif bmi >=27 and bmi <30:\n",
    "        print('輕度肥胖')\n",
    "    elif bmi >=30 and bmi <35:\n",
    "        print(\"中度肥胖\")\n",
    "    else:\n",
    "        print(\"重度肥胖\")\n",
    "except:\n",
    "    print(\"輸入格式錯誤\")"
   ]
  },
  {
   "cell_type": "code",
   "execution_count": 4,
   "metadata": {},
   "outputs": [
    {
     "name": "stdout",
     "output_type": "stream",
     "text": [
      "您的BMI是:25.2\n",
      "您的體重:過重\n"
     ]
    }
   ],
   "source": [
    "try:\n",
    "    height = eval(input(\"身高:\"))\n",
    "    weight = eval(input(\"體重:\"))\n",
    "    bmi = weight/((height/100)**2)\n",
    "    print(f'您的BMI是:{bmi:.1f}')\n",
    "    if  bmi <18.5:\n",
    "        print('您的體重:過輕')\n",
    "    elif bmi < 24:\n",
    "        print('您的體重:正常範圍')\n",
    "    elif bmi < 27:\n",
    "        print('您的體重:過重')\n",
    "    elif bmi <30:\n",
    "        print('您的體重:輕度肥胖')\n",
    "    elif bmi <35:\n",
    "        print('您的體重:中度肥胖')\n",
    "    else:\n",
    "        print('您的體重:重度肥胖')\n",
    "except:\n",
    "    print(\"格式錯誤\")"
   ]
  },
  {
   "cell_type": "code",
   "execution_count": 5,
   "metadata": {},
   "outputs": [
    {
     "name": "stdout",
     "output_type": "stream",
     "text": [
      "您的BMI是:25.2\n",
      "您的體重:過重\n"
     ]
    }
   ],
   "source": [
    "try:\n",
    "    height = eval(input(\"身高:\"))\n",
    "    weight = eval(input(\"體重:\"))\n",
    "    bmi = weight/((height/100)**2)\n",
    "    print(f'您的BMI是:{bmi:.1f}')\n",
    "    if  bmi >=35:\n",
    "        print('您的體重:重度肥胖')\n",
    "    elif bmi >= 30:\n",
    "        print('您的體重:中度肥胖')\n",
    "    elif bmi >= 27:\n",
    "        print('您的體重:輕度肥胖')\n",
    "    elif bmi >=24:\n",
    "        print('您的體重:過重')\n",
    "    elif bmi >=18.5:\n",
    "        print('您的體重:正常範圍')\n",
    "    else:\n",
    "        print('您的體重:過輕')\n",
    "except:\n",
    "    print(\"格式錯誤\")"
   ]
  }
 ],
 "metadata": {
  "kernelspec": {
   "display_name": "Python 3",
   "language": "python",
   "name": "python3"
  },
  "language_info": {
   "codemirror_mode": {
    "name": "ipython",
    "version": 3
   },
   "file_extension": ".py",
   "mimetype": "text/x-python",
   "name": "python",
   "nbconvert_exporter": "python",
   "pygments_lexer": "ipython3",
   "version": "3.10.13"
  }
 },
 "nbformat": 4,
 "nbformat_minor": 2
}
