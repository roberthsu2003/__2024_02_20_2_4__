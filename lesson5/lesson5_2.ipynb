{
 "cells": [
  {
   "cell_type": "code",
   "execution_count": 1,
   "metadata": {},
   "outputs": [
    {
     "name": "stdout",
     "output_type": "stream",
     "text": [
      "1...5的總合是15\n"
     ]
    }
   ],
   "source": [
    "#1...5的總合\n",
    "total = 0\n",
    "total += 1\n",
    "total += 2\n",
    "total += 3\n",
    "total += 4\n",
    "total += 5\n",
    "\n",
    "print(f\"1...5的總合是{total}\")"
   ]
  },
  {
   "cell_type": "code",
   "execution_count": 2,
   "metadata": {},
   "outputs": [
    {
     "name": "stdout",
     "output_type": "stream",
     "text": [
      "H\n",
      "e\n",
      "l\n",
      "l\n",
      "o\n",
      "!\n"
     ]
    }
   ],
   "source": [
    "#字串就是一個Sequence(串列資料)\n",
    "for word in 'Hello!':\n",
    "    print(word)"
   ]
  },
  {
   "cell_type": "code",
   "execution_count": 5,
   "metadata": {},
   "outputs": [
    {
     "name": "stdout",
     "output_type": "stream",
     "text": [
      "0\n",
      "1\n",
      "2\n",
      "3\n",
      "4\n",
      "==========\n",
      "1\n",
      "2\n",
      "3\n",
      "4\n",
      "5\n",
      "=========\n",
      "1\n",
      "3\n",
      "5\n",
      "7\n",
      "9\n"
     ]
    }
   ],
   "source": [
    "for i in range(5):\n",
    "    print(i)\n",
    "\n",
    "print(\"==========\")\n",
    "\n",
    "for i in range(1,6):\n",
    "    print(i)\n",
    "\n",
    "print(\"=========\")\n",
    "\n",
    "for i in range(1,11,2):\n",
    "    print(i)"
   ]
  },
  {
   "cell_type": "code",
   "execution_count": 8,
   "metadata": {},
   "outputs": [
    {
     "name": "stdout",
     "output_type": "stream",
     "text": [
      "1...100的總合5050\n"
     ]
    }
   ],
   "source": [
    "total = 0\n",
    "for i in range(1,101):\n",
    "    total += i\n",
    "\n",
    "print(f'1...100的總合{total}')"
   ]
  },
  {
   "cell_type": "code",
   "execution_count": 10,
   "metadata": {},
   "outputs": [
    {
     "name": "stdout",
     "output_type": "stream",
     "text": [
      "1...100的總合為5050\n"
     ]
    }
   ],
   "source": [
    "end = int(input('請輸入1加到end的總合,end為:'))\n",
    "total = 0\n",
    "for i in range(1,end+1):\n",
    "    total += i\n",
    "\n",
    "print(f'1...{end}的總合為{total}')"
   ]
  },
  {
   "cell_type": "code",
   "execution_count": 27,
   "metadata": {},
   "outputs": [
    {
     "name": "stdout",
     "output_type": "stream",
     "text": [
      "1 * 1 = 1   1 * 2 = 2   1 * 3 = 3   1 * 4 = 4   1 * 5 = 5   1 * 6 = 6   1 * 7 = 7   1 * 8 = 8   1 * 9 = 9   \n",
      "2 * 1 = 2   2 * 2 = 4   2 * 3 = 6   2 * 4 = 8   2 * 5 =10   2 * 6 =12   2 * 7 =14   2 * 8 =16   2 * 9 =18   \n",
      "3 * 1 = 3   3 * 2 = 6   3 * 3 = 9   3 * 4 =12   3 * 5 =15   3 * 6 =18   3 * 7 =21   3 * 8 =24   3 * 9 =27   \n",
      "4 * 1 = 4   4 * 2 = 8   4 * 3 =12   4 * 4 =16   4 * 5 =20   4 * 6 =24   4 * 7 =28   4 * 8 =32   4 * 9 =36   \n",
      "5 * 1 = 5   5 * 2 =10   5 * 3 =15   5 * 4 =20   5 * 5 =25   5 * 6 =30   5 * 7 =35   5 * 8 =40   5 * 9 =45   \n",
      "6 * 1 = 6   6 * 2 =12   6 * 3 =18   6 * 4 =24   6 * 5 =30   6 * 6 =36   6 * 7 =42   6 * 8 =48   6 * 9 =54   \n",
      "7 * 1 = 7   7 * 2 =14   7 * 3 =21   7 * 4 =28   7 * 5 =35   7 * 6 =42   7 * 7 =49   7 * 8 =56   7 * 9 =63   \n",
      "8 * 1 = 8   8 * 2 =16   8 * 3 =24   8 * 4 =32   8 * 5 =40   8 * 6 =48   8 * 7 =56   8 * 8 =64   8 * 9 =72   \n",
      "9 * 1 = 9   9 * 2 =18   9 * 3 =27   9 * 4 =36   9 * 5 =45   9 * 6 =54   9 * 7 =63   9 * 8 =72   9 * 9 =81   \n"
     ]
    }
   ],
   "source": [
    "#巢狀迴圈\n",
    "for i in range(1,10):    \n",
    "    for j in range(1,10):\n",
    "        print(f'{i:<2d}*{j:2d} ={i*j:2d}',end='   ')\n",
    "    print()"
   ]
  }
 ],
 "metadata": {
  "kernelspec": {
   "display_name": "Python 3",
   "language": "python",
   "name": "python3"
  },
  "language_info": {
   "codemirror_mode": {
    "name": "ipython",
    "version": 3
   },
   "file_extension": ".py",
   "mimetype": "text/x-python",
   "name": "python",
   "nbconvert_exporter": "python",
   "pygments_lexer": "ipython3",
   "version": "3.10.13"
  }
 },
 "nbformat": 4,
 "nbformat_minor": 2
}
