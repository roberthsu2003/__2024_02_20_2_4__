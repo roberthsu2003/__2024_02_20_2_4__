{
 "cells": [
  {
   "cell_type": "code",
   "execution_count": 4,
   "metadata": {},
   "outputs": [
    {
     "name": "stdout",
     "output_type": "stream",
     "text": [
      "請輸入指定人數(1~50):[{'name': '郭坤花', 'height': 197, 'weight': 77},\n",
      " {'name': '白美珍', 'height': 173, 'weight': 52},\n",
      " {'name': '陳美惠', 'height': 156, 'weight': 78}]\n"
     ]
    }
   ],
   "source": [
    "import random\n",
    "import pyinputplus as pyip\n",
    "from pprint import pprint\n",
    "\n",
    "def getNames(num:int) -> list[str]:\n",
    "    with open('names.txt', encoding='utf-8') as file:\n",
    "        rawData:str = file.read()\n",
    "        names:list[str] = rawData.split('\\n')\n",
    "        random_names:list[str] = random.choices(names, k=num)\n",
    "\n",
    "        return random_names\n",
    "\n",
    "############################\n",
    "\n",
    "def generateData(names:list[str]) -> list[dict[str:any]]:\n",
    "    items:list[dict] = []\n",
    "\n",
    "    for name in names:\n",
    "        newItem:dict[str:any] = {\n",
    "            'name': name,\n",
    "            'height': random.randint(150, 220),\n",
    "            'weight': random.randint(40, 90)\n",
    "        }\n",
    "\n",
    "        items.append(newItem)\n",
    "\n",
    "    return items\n",
    "\n",
    "############################\n",
    "\n",
    "def main():\n",
    "    num:int = pyip.inputInt('請輸入指定人數(1~50):', min=1, max=50)\n",
    "    names:list[str] = getNames(num)\n",
    "    items:list[dict[str:any]] = generateData(names)\n",
    "\n",
    "    pprint(items, sort_dicts=False)\n",
    "\n",
    "main()"
   ]
  }
 ],
 "metadata": {
  "kernelspec": {
   "display_name": "Python 3",
   "language": "python",
   "name": "python3"
  },
  "language_info": {
   "codemirror_mode": {
    "name": "ipython",
    "version": 3
   },
   "file_extension": ".py",
   "mimetype": "text/x-python",
   "name": "python",
   "nbconvert_exporter": "python",
   "pygments_lexer": "ipython3",
   "version": "3.10.13"
  }
 },
 "nbformat": 4,
 "nbformat_minor": 2
}
