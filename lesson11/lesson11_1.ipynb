{
 "cells": [
  {
   "cell_type": "code",
   "execution_count": 7,
   "metadata": {},
   "outputs": [
    {
     "name": "stdout",
     "output_type": "stream",
     "text": [
      "HTTPSConnectionPool(host='data.moenv.gov', port=443): Max retries exceeded with url: /api/v2/aqx_p_488?api_key=e8dd42e6-9b8b-43f8-991e-b3dee723a52d&limit=1000&sort=datacreationdate%20desc&format=CSV (Caused by NameResolutionError(\"<urllib3.connection.HTTPSConnection object at 0x7f58683f0310>: Failed to resolve 'data.moenv.gov' ([Errno -5] No address associated with hostname)\"))\n",
      "連線失敗\n"
     ]
    }
   ],
   "source": [
    "import requests\n",
    "from requests import Response\n",
    "aqi_url = '\thttps://data.moenv.gov/api/v2/aqx_p_488?api_key=e8dd42e6-9b8b-43f8-991e-b3dee723a52d&limit=1000&sort=datacreationdate desc&format=CSV'\n",
    "try:\n",
    "    response:Response =requests.get(aqi_url)\n",
    "    response.raise_for_status()\n",
    "    if response.ok:\n",
    "        print(\"下載成功\")\n",
    "    else:\n",
    "        print(\"下載失敗\")\n",
    "except Exception as e:\n",
    "    print(e)\n",
    "    print(\"連線失敗\")\n"
   ]
  }
 ],
 "metadata": {
  "kernelspec": {
   "display_name": "Python 3",
   "language": "python",
   "name": "python3"
  },
  "language_info": {
   "codemirror_mode": {
    "name": "ipython",
    "version": 3
   },
   "file_extension": ".py",
   "mimetype": "text/x-python",
   "name": "python",
   "nbconvert_exporter": "python",
   "pygments_lexer": "ipython3",
   "version": "3.10.13"
  }
 },
 "nbformat": 4,
 "nbformat_minor": 2
}
